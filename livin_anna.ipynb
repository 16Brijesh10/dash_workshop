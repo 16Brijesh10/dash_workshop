{
 "cells": [
  {
   "cell_type": "code",
   "execution_count": 50,
   "id": "0681f818-68c0-4990-b640-6ee3fc0f0833",
   "metadata": {},
   "outputs": [
    {
     "name": "stdout",
     "output_type": "stream",
     "text": [
      "Hi i am brijesh,My age is 20,My profession is student\n"
     ]
    }
   ],
   "source": [
    "from simple_colors import *\n",
    "\n",
    "name =input(\"enter your name:\")\n",
    "age=int(input(\"enter your age:\"))\n",
    "profession=input(\"enter your profession:\")\n",
    "a=blue(name)\n",
    "print(f\"Hi i am {name},My age is {age},My profession is {profession}\")"
   ]
  },
  {
   "cell_type": "code",
   "execution_count": 11,
   "id": "7f1f0851",
   "metadata": {},
   "outputs": [
    {
     "data": {
      "text/plain": [
       "[{'name': 'brijesh', 'age': 21, 'profession': 'student'},\n",
       " {'name': 'ashik', 'age': 20, 'profession': 'student'}]"
      ]
     },
     "execution_count": 11,
     "metadata": {},
     "output_type": "execute_result"
    }
   ],
   "source": [
    "student_dict = {\"name\":name,\"age\":age,\"profession\":profession}\n",
    "ashik_details={\"name\":\"ashik\",\"age\":20,\"profession\":\"student\"}\n",
    "\n",
    "student_data=[]\n",
    "student_data.append(student_dict)\n",
    "student_data.append(ashik_details)\n",
    "student_data"
   ]
  },
  {
   "cell_type": "code",
   "execution_count": 38,
   "id": "118072f1",
   "metadata": {},
   "outputs": [
    {
     "data": {
      "text/plain": [
       "'ashik'"
      ]
     },
     "execution_count": 38,
     "metadata": {},
     "output_type": "execute_result"
    }
   ],
   "source": [
    "student_data[1]['name']"
   ]
  },
  {
   "cell_type": "code",
   "execution_count": 39,
   "id": "adfde2d5",
   "metadata": {},
   "outputs": [],
   "source": [
    "li = [\"keerthi\",\"sanjay\"]"
   ]
  },
  {
   "cell_type": "code",
   "execution_count": 40,
   "id": "d2075f8c",
   "metadata": {},
   "outputs": [],
   "source": [
    "li.extend(student_data)"
   ]
  },
  {
   "cell_type": "code",
   "execution_count": 41,
   "id": "d01d7b14",
   "metadata": {},
   "outputs": [
    {
     "data": {
      "text/plain": [
       "['keerthi',\n",
       " 'sanjay',\n",
       " {'name': 'brijesh', 'age': 21, 'profession': 'student'},\n",
       " {'name': 'ashik', 'age': 20, 'profession': 'student'}]"
      ]
     },
     "execution_count": 41,
     "metadata": {},
     "output_type": "execute_result"
    }
   ],
   "source": [
    "li"
   ]
  },
  {
   "cell_type": "code",
   "execution_count": 46,
   "id": "b1bb5355",
   "metadata": {},
   "outputs": [],
   "source": [
    "studnet_int=[1,2,3,4,5]"
   ]
  },
  {
   "cell_type": "code",
   "execution_count": 47,
   "id": "12cc82fe",
   "metadata": {},
   "outputs": [
    {
     "name": "stdout",
     "output_type": "stream",
     "text": [
      "0\n",
      "1\n",
      "2\n",
      "3\n",
      "4\n"
     ]
    }
   ],
   "source": [
    "for i in range(len(studnet_int)):\n",
    "    print(i)"
   ]
  },
  {
   "cell_type": "code",
   "execution_count": 48,
   "id": "41cad85f",
   "metadata": {},
   "outputs": [
    {
     "name": "stdout",
     "output_type": "stream",
     "text": [
      "[2, 3, 4, 5, 6]\n"
     ]
    }
   ],
   "source": [
    "Li_st=[x+2 for x in range(len(studnet_int))]\n",
    "print(Li_st)"
   ]
  },
  {
   "cell_type": "code",
   "execution_count": 51,
   "id": "4ceee7dc",
   "metadata": {},
   "outputs": [],
   "source": [
    "import pandas as pd\n",
    "data = pd.DataFrame(student_data)"
   ]
  },
  {
   "cell_type": "code",
   "execution_count": 52,
   "id": "ce363bcc",
   "metadata": {},
   "outputs": [
    {
     "data": {
      "text/html": [
       "<div>\n",
       "<style scoped>\n",
       "    .dataframe tbody tr th:only-of-type {\n",
       "        vertical-align: middle;\n",
       "    }\n",
       "\n",
       "    .dataframe tbody tr th {\n",
       "        vertical-align: top;\n",
       "    }\n",
       "\n",
       "    .dataframe thead th {\n",
       "        text-align: right;\n",
       "    }\n",
       "</style>\n",
       "<table border=\"1\" class=\"dataframe\">\n",
       "  <thead>\n",
       "    <tr style=\"text-align: right;\">\n",
       "      <th></th>\n",
       "      <th>name</th>\n",
       "      <th>age</th>\n",
       "      <th>profession</th>\n",
       "    </tr>\n",
       "  </thead>\n",
       "  <tbody>\n",
       "    <tr>\n",
       "      <th>0</th>\n",
       "      <td>brijesh</td>\n",
       "      <td>21</td>\n",
       "      <td>student</td>\n",
       "    </tr>\n",
       "    <tr>\n",
       "      <th>1</th>\n",
       "      <td>ashik</td>\n",
       "      <td>20</td>\n",
       "      <td>student</td>\n",
       "    </tr>\n",
       "  </tbody>\n",
       "</table>\n",
       "</div>"
      ],
      "text/plain": [
       "      name  age profession\n",
       "0  brijesh   21    student\n",
       "1    ashik   20    student"
      ]
     },
     "execution_count": 52,
     "metadata": {},
     "output_type": "execute_result"
    }
   ],
   "source": [
    "data"
   ]
  },
  {
   "cell_type": "code",
   "execution_count": 53,
   "id": "2977440d",
   "metadata": {},
   "outputs": [],
   "source": [
    "data.to_csv(\"student_data.csv\")"
   ]
  },
  {
   "cell_type": "code",
   "execution_count": 54,
   "id": "1684255d",
   "metadata": {},
   "outputs": [],
   "source": [
    "data.to_json(\"student_data.json\")"
   ]
  },
  {
   "cell_type": "code",
   "execution_count": 57,
   "id": "d0675167",
   "metadata": {},
   "outputs": [],
   "source": [
    "import json\n",
    "with open(\"student_data.json\",\"w\") as f:\n",
    "    json.dump(student_data , f)\n",
    "          "
   ]
  },
  {
   "cell_type": "code",
   "execution_count": 1,
   "id": "a67a6744",
   "metadata": {},
   "outputs": [
    {
     "ename": "JSONDecodeError",
     "evalue": "Expecting value: line 1 column 1 (char 0)",
     "output_type": "error",
     "traceback": [
      "\u001b[1;31m---------------------------------------------------------------------------\u001b[0m",
      "\u001b[1;31mJSONDecodeError\u001b[0m                           Traceback (most recent call last)",
      "Cell \u001b[1;32mIn[1], line 3\u001b[0m\n\u001b[0;32m      1\u001b[0m \u001b[38;5;28;01mimport\u001b[39;00m \u001b[38;5;21;01mjson\u001b[39;00m\n\u001b[0;32m      2\u001b[0m \u001b[38;5;28;01mwith\u001b[39;00m \u001b[38;5;28mopen\u001b[39m(\u001b[38;5;124m\"\u001b[39m\u001b[38;5;124mstudent_data.json\u001b[39m\u001b[38;5;124m\"\u001b[39m,\u001b[38;5;124m\"\u001b[39m\u001b[38;5;124mr\u001b[39m\u001b[38;5;124m\"\u001b[39m) \u001b[38;5;28;01mas\u001b[39;00m f:\n\u001b[1;32m----> 3\u001b[0m     a\u001b[38;5;241m=\u001b[39m \u001b[43mjson\u001b[49m\u001b[38;5;241;43m.\u001b[39;49m\u001b[43mload\u001b[49m\u001b[43m(\u001b[49m\u001b[43mf\u001b[49m\u001b[43m)\u001b[49m\n",
      "File \u001b[1;32mc:\\Users\\brije\\anaconda3\\envs\\nullclass\\lib\\json\\__init__.py:293\u001b[0m, in \u001b[0;36mload\u001b[1;34m(fp, cls, object_hook, parse_float, parse_int, parse_constant, object_pairs_hook, **kw)\u001b[0m\n\u001b[0;32m    274\u001b[0m \u001b[38;5;28;01mdef\u001b[39;00m \u001b[38;5;21mload\u001b[39m(fp, \u001b[38;5;241m*\u001b[39m, \u001b[38;5;28mcls\u001b[39m\u001b[38;5;241m=\u001b[39m\u001b[38;5;28;01mNone\u001b[39;00m, object_hook\u001b[38;5;241m=\u001b[39m\u001b[38;5;28;01mNone\u001b[39;00m, parse_float\u001b[38;5;241m=\u001b[39m\u001b[38;5;28;01mNone\u001b[39;00m,\n\u001b[0;32m    275\u001b[0m         parse_int\u001b[38;5;241m=\u001b[39m\u001b[38;5;28;01mNone\u001b[39;00m, parse_constant\u001b[38;5;241m=\u001b[39m\u001b[38;5;28;01mNone\u001b[39;00m, object_pairs_hook\u001b[38;5;241m=\u001b[39m\u001b[38;5;28;01mNone\u001b[39;00m, \u001b[38;5;241m*\u001b[39m\u001b[38;5;241m*\u001b[39mkw):\n\u001b[0;32m    276\u001b[0m \u001b[38;5;250m    \u001b[39m\u001b[38;5;124;03m\"\"\"Deserialize ``fp`` (a ``.read()``-supporting file-like object containing\u001b[39;00m\n\u001b[0;32m    277\u001b[0m \u001b[38;5;124;03m    a JSON document) to a Python object.\u001b[39;00m\n\u001b[0;32m    278\u001b[0m \n\u001b[1;32m   (...)\u001b[0m\n\u001b[0;32m    291\u001b[0m \u001b[38;5;124;03m    kwarg; otherwise ``JSONDecoder`` is used.\u001b[39;00m\n\u001b[0;32m    292\u001b[0m \u001b[38;5;124;03m    \"\"\"\u001b[39;00m\n\u001b[1;32m--> 293\u001b[0m     \u001b[38;5;28;01mreturn\u001b[39;00m loads(fp\u001b[38;5;241m.\u001b[39mread(),\n\u001b[0;32m    294\u001b[0m         \u001b[38;5;28mcls\u001b[39m\u001b[38;5;241m=\u001b[39m\u001b[38;5;28mcls\u001b[39m, object_hook\u001b[38;5;241m=\u001b[39mobject_hook,\n\u001b[0;32m    295\u001b[0m         parse_float\u001b[38;5;241m=\u001b[39mparse_float, parse_int\u001b[38;5;241m=\u001b[39mparse_int,\n\u001b[0;32m    296\u001b[0m         parse_constant\u001b[38;5;241m=\u001b[39mparse_constant, object_pairs_hook\u001b[38;5;241m=\u001b[39mobject_pairs_hook, \u001b[38;5;241m*\u001b[39m\u001b[38;5;241m*\u001b[39mkw)\n",
      "File \u001b[1;32mc:\\Users\\brije\\anaconda3\\envs\\nullclass\\lib\\json\\__init__.py:346\u001b[0m, in \u001b[0;36mloads\u001b[1;34m(s, cls, object_hook, parse_float, parse_int, parse_constant, object_pairs_hook, **kw)\u001b[0m\n\u001b[0;32m    341\u001b[0m     s \u001b[38;5;241m=\u001b[39m s\u001b[38;5;241m.\u001b[39mdecode(detect_encoding(s), \u001b[38;5;124m'\u001b[39m\u001b[38;5;124msurrogatepass\u001b[39m\u001b[38;5;124m'\u001b[39m)\n\u001b[0;32m    343\u001b[0m \u001b[38;5;28;01mif\u001b[39;00m (\u001b[38;5;28mcls\u001b[39m \u001b[38;5;129;01mis\u001b[39;00m \u001b[38;5;28;01mNone\u001b[39;00m \u001b[38;5;129;01mand\u001b[39;00m object_hook \u001b[38;5;129;01mis\u001b[39;00m \u001b[38;5;28;01mNone\u001b[39;00m \u001b[38;5;129;01mand\u001b[39;00m\n\u001b[0;32m    344\u001b[0m         parse_int \u001b[38;5;129;01mis\u001b[39;00m \u001b[38;5;28;01mNone\u001b[39;00m \u001b[38;5;129;01mand\u001b[39;00m parse_float \u001b[38;5;129;01mis\u001b[39;00m \u001b[38;5;28;01mNone\u001b[39;00m \u001b[38;5;129;01mand\u001b[39;00m\n\u001b[0;32m    345\u001b[0m         parse_constant \u001b[38;5;129;01mis\u001b[39;00m \u001b[38;5;28;01mNone\u001b[39;00m \u001b[38;5;129;01mand\u001b[39;00m object_pairs_hook \u001b[38;5;129;01mis\u001b[39;00m \u001b[38;5;28;01mNone\u001b[39;00m \u001b[38;5;129;01mand\u001b[39;00m \u001b[38;5;129;01mnot\u001b[39;00m kw):\n\u001b[1;32m--> 346\u001b[0m     \u001b[38;5;28;01mreturn\u001b[39;00m \u001b[43m_default_decoder\u001b[49m\u001b[38;5;241;43m.\u001b[39;49m\u001b[43mdecode\u001b[49m\u001b[43m(\u001b[49m\u001b[43ms\u001b[49m\u001b[43m)\u001b[49m\n\u001b[0;32m    347\u001b[0m \u001b[38;5;28;01mif\u001b[39;00m \u001b[38;5;28mcls\u001b[39m \u001b[38;5;129;01mis\u001b[39;00m \u001b[38;5;28;01mNone\u001b[39;00m:\n\u001b[0;32m    348\u001b[0m     \u001b[38;5;28mcls\u001b[39m \u001b[38;5;241m=\u001b[39m JSONDecoder\n",
      "File \u001b[1;32mc:\\Users\\brije\\anaconda3\\envs\\nullclass\\lib\\json\\decoder.py:337\u001b[0m, in \u001b[0;36mJSONDecoder.decode\u001b[1;34m(self, s, _w)\u001b[0m\n\u001b[0;32m    332\u001b[0m \u001b[38;5;28;01mdef\u001b[39;00m \u001b[38;5;21mdecode\u001b[39m(\u001b[38;5;28mself\u001b[39m, s, _w\u001b[38;5;241m=\u001b[39mWHITESPACE\u001b[38;5;241m.\u001b[39mmatch):\n\u001b[0;32m    333\u001b[0m \u001b[38;5;250m    \u001b[39m\u001b[38;5;124;03m\"\"\"Return the Python representation of ``s`` (a ``str`` instance\u001b[39;00m\n\u001b[0;32m    334\u001b[0m \u001b[38;5;124;03m    containing a JSON document).\u001b[39;00m\n\u001b[0;32m    335\u001b[0m \n\u001b[0;32m    336\u001b[0m \u001b[38;5;124;03m    \"\"\"\u001b[39;00m\n\u001b[1;32m--> 337\u001b[0m     obj, end \u001b[38;5;241m=\u001b[39m \u001b[38;5;28;43mself\u001b[39;49m\u001b[38;5;241;43m.\u001b[39;49m\u001b[43mraw_decode\u001b[49m\u001b[43m(\u001b[49m\u001b[43ms\u001b[49m\u001b[43m,\u001b[49m\u001b[43m \u001b[49m\u001b[43midx\u001b[49m\u001b[38;5;241;43m=\u001b[39;49m\u001b[43m_w\u001b[49m\u001b[43m(\u001b[49m\u001b[43ms\u001b[49m\u001b[43m,\u001b[49m\u001b[43m \u001b[49m\u001b[38;5;241;43m0\u001b[39;49m\u001b[43m)\u001b[49m\u001b[38;5;241;43m.\u001b[39;49m\u001b[43mend\u001b[49m\u001b[43m(\u001b[49m\u001b[43m)\u001b[49m\u001b[43m)\u001b[49m\n\u001b[0;32m    338\u001b[0m     end \u001b[38;5;241m=\u001b[39m _w(s, end)\u001b[38;5;241m.\u001b[39mend()\n\u001b[0;32m    339\u001b[0m     \u001b[38;5;28;01mif\u001b[39;00m end \u001b[38;5;241m!=\u001b[39m \u001b[38;5;28mlen\u001b[39m(s):\n",
      "File \u001b[1;32mc:\\Users\\brije\\anaconda3\\envs\\nullclass\\lib\\json\\decoder.py:355\u001b[0m, in \u001b[0;36mJSONDecoder.raw_decode\u001b[1;34m(self, s, idx)\u001b[0m\n\u001b[0;32m    353\u001b[0m     obj, end \u001b[38;5;241m=\u001b[39m \u001b[38;5;28mself\u001b[39m\u001b[38;5;241m.\u001b[39mscan_once(s, idx)\n\u001b[0;32m    354\u001b[0m \u001b[38;5;28;01mexcept\u001b[39;00m \u001b[38;5;167;01mStopIteration\u001b[39;00m \u001b[38;5;28;01mas\u001b[39;00m err:\n\u001b[1;32m--> 355\u001b[0m     \u001b[38;5;28;01mraise\u001b[39;00m JSONDecodeError(\u001b[38;5;124m\"\u001b[39m\u001b[38;5;124mExpecting value\u001b[39m\u001b[38;5;124m\"\u001b[39m, s, err\u001b[38;5;241m.\u001b[39mvalue) \u001b[38;5;28;01mfrom\u001b[39;00m \u001b[38;5;28;01mNone\u001b[39;00m\n\u001b[0;32m    356\u001b[0m \u001b[38;5;28;01mreturn\u001b[39;00m obj, end\n",
      "\u001b[1;31mJSONDecodeError\u001b[0m: Expecting value: line 1 column 1 (char 0)"
     ]
    }
   ],
   "source": [
    "import json\n",
    "with open(\"student_data.json\",\"r\") as f:\n",
    "    a= json.load(f)"
   ]
  },
  {
   "cell_type": "code",
   "execution_count": 84,
   "id": "dee56ff6",
   "metadata": {},
   "outputs": [
    {
     "data": {
      "text/plain": [
       "[{'name': 'brijesh', 'age': 21, 'profession': 'student'},\n",
       " {'name': 'ashik', 'age': 20, 'profession': 'student'}]"
      ]
     },
     "execution_count": 84,
     "metadata": {},
     "output_type": "execute_result"
    }
   ],
   "source": [
    "a"
   ]
  },
  {
   "cell_type": "code",
   "execution_count": 85,
   "id": "c094731a",
   "metadata": {},
   "outputs": [
    {
     "data": {
      "text/plain": [
       "['BRIJESH', 'ASHIK']"
      ]
     },
     "execution_count": 85,
     "metadata": {},
     "output_type": "execute_result"
    }
   ],
   "source": [
    "[student['name'].upper() for student in a]"
   ]
  },
  {
   "cell_type": "code",
   "execution_count": 86,
   "id": "90dfc121",
   "metadata": {},
   "outputs": [
    {
     "data": {
      "text/plain": [
       "['STUDENT', 'STUDENT']"
      ]
     },
     "execution_count": 86,
     "metadata": {},
     "output_type": "execute_result"
    }
   ],
   "source": [
    "[student['profession'].upper() for student in a]"
   ]
  },
  {
   "cell_type": "code",
   "execution_count": 100,
   "id": "8282aac5",
   "metadata": {},
   "outputs": [],
   "source": [
    "def change_name_to_upper(student_a):\n",
    "    for student in student_a:\n",
    "        student[\"name\"]=student['name'].upper()\n",
    "\n",
    "    return student_a\n",
    "    "
   ]
  },
  {
   "cell_type": "code",
   "execution_count": 99,
   "id": "e6452f6f",
   "metadata": {},
   "outputs": [
    {
     "data": {
      "text/plain": [
       "[{'name': 'BRIJESH', 'age': 21, 'profession': 'student'},\n",
       " {'name': 'ASHIK', 'age': 20, 'profession': 'student'}]"
      ]
     },
     "execution_count": 99,
     "metadata": {},
     "output_type": "execute_result"
    }
   ],
   "source": [
    "st"
   ]
  },
  {
   "cell_type": "code",
   "execution_count": 101,
   "id": "7fd4aba5",
   "metadata": {},
   "outputs": [
    {
     "data": {
      "text/plain": [
       "[{'name': 'BRIJESH', 'age': 21, 'profession': 'student'},\n",
       " {'name': 'ASHIK', 'age': 20, 'profession': 'student'}]"
      ]
     },
     "execution_count": 101,
     "metadata": {},
     "output_type": "execute_result"
    }
   ],
   "source": [
    "change_name_to_upper(a)"
   ]
  },
  {
   "cell_type": "code",
   "execution_count": 98,
   "id": "dccb9a06",
   "metadata": {},
   "outputs": [
    {
     "data": {
      "text/plain": [
       "[{'name': 'BRIJESH', 'age': 21, 'profession': 'student'},\n",
       " {'name': 'ASHIK', 'age': 20, 'profession': 'student'}]"
      ]
     },
     "execution_count": 98,
     "metadata": {},
     "output_type": "execute_result"
    }
   ],
   "source": [
    "a"
   ]
  },
  {
   "cell_type": "code",
   "execution_count": 15,
   "id": "1bdaeaa0",
   "metadata": {},
   "outputs": [],
   "source": [
    "class student:\n",
    "    def __init__(self, name, age, mark):\n",
    "        self.name = name\n",
    "        self.age=age\n",
    "        self.mark=mark\n",
    "        print(f'created student details')\n",
    "    def get_marks(self):\n",
    "      return self.mark\n",
    "    def map_grade(self):\n",
    "        if self.mark >=90:\n",
    "            return \"A\"\n",
    "        elif self.mark>=80:\n",
    "            return \"B\"\n",
    "        else:\n",
    "            return \"C\""
   ]
  },
  {
   "cell_type": "code",
   "execution_count": 16,
   "id": "1bc35190",
   "metadata": {},
   "outputs": [
    {
     "name": "stdout",
     "output_type": "stream",
     "text": [
      "created student details\n"
     ]
    }
   ],
   "source": [
    "s1 = student(\"brijesh\",20,92)"
   ]
  },
  {
   "cell_type": "code",
   "execution_count": 17,
   "id": "8daf4a6f",
   "metadata": {},
   "outputs": [
    {
     "data": {
      "text/plain": [
       "92"
      ]
     },
     "execution_count": 17,
     "metadata": {},
     "output_type": "execute_result"
    }
   ],
   "source": [
    "s1.get_marks()"
   ]
  },
  {
   "cell_type": "code",
   "execution_count": 19,
   "id": "d745b9da",
   "metadata": {},
   "outputs": [
    {
     "name": "stdout",
     "output_type": "stream",
     "text": [
      "Collecting sqlalchemy\n",
      "  Downloading SQLAlchemy-2.0.32-cp39-cp39-win_amd64.whl.metadata (9.8 kB)\n",
      "Requirement already satisfied: typing-extensions>=4.6.0 in c:\\users\\brije\\anaconda3\\envs\\nullclass\\lib\\site-packages (from sqlalchemy) (4.12.0)\n",
      "Collecting greenlet!=0.4.17 (from sqlalchemy)\n",
      "  Downloading greenlet-3.0.3-cp39-cp39-win_amd64.whl.metadata (3.9 kB)\n",
      "Downloading SQLAlchemy-2.0.32-cp39-cp39-win_amd64.whl (2.1 MB)\n",
      "   ---------------------------------------- 0.0/2.1 MB ? eta -:--:--\n",
      "   ---------------------------------------- 0.0/2.1 MB ? eta -:--:--\n",
      "   - -------------------------------------- 0.1/2.1 MB 991.0 kB/s eta 0:00:03\n",
      "   --- ------------------------------------ 0.2/2.1 MB 1.6 MB/s eta 0:00:02\n",
      "   ------- -------------------------------- 0.4/2.1 MB 2.3 MB/s eta 0:00:01\n",
      "   --------- ------------------------------ 0.5/2.1 MB 2.5 MB/s eta 0:00:01\n",
      "   ------------- -------------------------- 0.7/2.1 MB 2.7 MB/s eta 0:00:01\n",
      "   ----------------- ---------------------- 0.9/2.1 MB 3.0 MB/s eta 0:00:01\n",
      "   ------------------ --------------------- 1.0/2.1 MB 2.8 MB/s eta 0:00:01\n",
      "   --------------------- ------------------ 1.1/2.1 MB 2.8 MB/s eta 0:00:01\n",
      "   ------------------------ --------------- 1.3/2.1 MB 2.9 MB/s eta 0:00:01\n",
      "   ------------------------ --------------- 1.3/2.1 MB 2.9 MB/s eta 0:00:01\n",
      "   --------------------------- ------------ 1.4/2.1 MB 2.6 MB/s eta 0:00:01\n",
      "   ------------------------------ --------- 1.6/2.1 MB 2.7 MB/s eta 0:00:01\n",
      "   -------------------------------- ------- 1.7/2.1 MB 2.7 MB/s eta 0:00:01\n",
      "   ----------------------------------- ---- 1.8/2.1 MB 2.7 MB/s eta 0:00:01\n",
      "   -------------------------------------- - 2.0/2.1 MB 2.8 MB/s eta 0:00:01\n",
      "   ---------------------------------------- 2.1/2.1 MB 2.8 MB/s eta 0:00:00\n",
      "Downloading greenlet-3.0.3-cp39-cp39-win_amd64.whl (290 kB)\n",
      "   ---------------------------------------- 0.0/290.8 kB ? eta -:--:--\n",
      "   --------------- ------------------------ 112.6/290.8 kB 3.3 MB/s eta 0:00:01\n",
      "   ------------------------------ --------- 225.3/290.8 kB 2.8 MB/s eta 0:00:01\n",
      "   ---------------------------------------- 290.8/290.8 kB 2.6 MB/s eta 0:00:00\n",
      "Installing collected packages: greenlet, sqlalchemy\n",
      "Successfully installed greenlet-3.0.3 sqlalchemy-2.0.32\n"
     ]
    }
   ],
   "source": [
    "!pip install sqlalchemy"
   ]
  },
  {
   "cell_type": "code",
   "execution_count": 20,
   "id": "2c2a59c5",
   "metadata": {},
   "outputs": [],
   "source": [
    "from sqlalchemy import create_engine"
   ]
  },
  {
   "cell_type": "code",
   "execution_count": null,
   "id": "a8397912",
   "metadata": {},
   "outputs": [],
   "source": []
  },
  {
   "cell_type": "code",
   "execution_count": null,
   "id": "bff1d43f",
   "metadata": {},
   "outputs": [],
   "source": []
  }
 ],
 "metadata": {
  "kernelspec": {
   "display_name": "nullclass",
   "language": "python",
   "name": "python3"
  },
  "language_info": {
   "codemirror_mode": {
    "name": "ipython",
    "version": 3
   },
   "file_extension": ".py",
   "mimetype": "text/x-python",
   "name": "python",
   "nbconvert_exporter": "python",
   "pygments_lexer": "ipython3",
   "version": "3.9.19"
  }
 },
 "nbformat": 4,
 "nbformat_minor": 5
}
